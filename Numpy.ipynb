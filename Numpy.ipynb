{
  "nbformat": 4,
  "nbformat_minor": 0,
  "metadata": {
    "colab": {
      "provenance": [],
      "include_colab_link": true
    },
    "kernelspec": {
      "name": "python3",
      "display_name": "Python 3"
    },
    "language_info": {
      "name": "python"
    }
  },
  "cells": [
    {
      "cell_type": "markdown",
      "metadata": {
        "id": "view-in-github",
        "colab_type": "text"
      },
      "source": [
        "<a href=\"https://colab.research.google.com/github/Papijohan000/colab_IA/blob/main/Numpy.ipynb\" target=\"_parent\"><img src=\"https://colab.research.google.com/assets/colab-badge.svg\" alt=\"Open In Colab\"/></a>"
      ]
    },
    {
      "cell_type": "code",
      "execution_count": 35,
      "metadata": {
        "colab": {
          "base_uri": "https://localhost:8080/"
        },
        "id": "lWY-spWP3oWJ",
        "outputId": "0f563e06-09e7-46fa-f461-16328473541b"
      },
      "outputs": [
        {
          "output_type": "stream",
          "name": "stdout",
          "text": [
            "[1 2 4]\n",
            "(3,)\n",
            "(2, 3)\n",
            "[[1 2 4]\n",
            " [1 2 4]]\n",
            "<class 'numpy.ndarray'>\n",
            "-----------\n",
            "[[0. 0. 0. 0.]\n",
            " [0. 0. 0. 0.]\n",
            " [0. 0. 0. 0.]\n",
            " [0. 0. 0. 0.]]\n",
            "[[5 5 5 5]\n",
            " [5 5 5 5]\n",
            " [5 5 5 5]\n",
            " [5 5 5 5]]\n",
            "[[1. 0. 0. 0.]\n",
            " [0. 1. 0. 0.]\n",
            " [0. 0. 1. 0.]\n",
            " [0. 0. 0. 1.]]\n",
            "[[1. 1. 1. 1.]\n",
            " [1. 1. 1. 1.]\n",
            " [1. 1. 1. 1.]\n",
            " [1. 1. 1. 1.]]\n",
            "(4, 4)\n"
          ]
        }
      ],
      "source": [
        "import numpy as np\n",
        "\n",
        "m=np.array([1,2,4])\n",
        "print(m)\n",
        "print(m.shape)\n",
        "m=np.array([[1,2,4],[1,2,4]])\n",
        "print(m.shape)\n",
        "print(m)\n",
        "print(type(m))\n",
        "\n",
        "x=np.zeros((4,4))\n",
        "print('-----------')\n",
        "print(x)\n",
        "\n",
        "\n",
        "x=np.full((4,4),5)\n",
        "print(x)\n",
        "\n",
        "\n",
        "x=np.eye(4,4)\n",
        "print(x)\n",
        "\n",
        "\n",
        "x=np.ones((4,4))\n",
        "print(x)\n",
        "\n",
        "print(x.shape)"
      ]
    },
    {
      "cell_type": "code",
      "source": [
        "x=10*np.random.random((3,3))\n",
        "print(x)"
      ],
      "metadata": {
        "colab": {
          "base_uri": "https://localhost:8080/"
        },
        "id": "PtLIPyeg4R5k",
        "outputId": "981739d3-541d-4d83-edb8-ac96c608143f"
      },
      "execution_count": 36,
      "outputs": [
        {
          "output_type": "stream",
          "name": "stdout",
          "text": [
            "[[1.09418452 5.11091821 6.89561369]\n",
            " [4.47491341 3.97686112 0.44221704]\n",
            " [1.75207156 0.13680686 3.3901382 ]]\n"
          ]
        }
      ]
    },
    {
      "cell_type": "code",
      "source": [
        "print(x[:2,:2])"
      ],
      "metadata": {
        "colab": {
          "base_uri": "https://localhost:8080/"
        },
        "id": "fg_b0NeL4bJs",
        "outputId": "5c8e1e0d-515f-44fc-e549-9ca63ab8df59"
      },
      "execution_count": 37,
      "outputs": [
        {
          "output_type": "stream",
          "name": "stdout",
          "text": [
            "[[1.09418452 5.11091821]\n",
            " [4.47491341 3.97686112]]\n"
          ]
        }
      ]
    },
    {
      "cell_type": "code",
      "source": [
        "print(x[:2,1:3])"
      ],
      "metadata": {
        "colab": {
          "base_uri": "https://localhost:8080/"
        },
        "id": "-AePZpAh4fUG",
        "outputId": "6175c881-335b-4a2c-d846-24f9a45ab7dc"
      },
      "execution_count": 38,
      "outputs": [
        {
          "output_type": "stream",
          "name": "stdout",
          "text": [
            "[[5.11091821 6.89561369]\n",
            " [3.97686112 0.44221704]]\n"
          ]
        }
      ]
    },
    {
      "cell_type": "code",
      "source": [
        "print(x[1,1])"
      ],
      "metadata": {
        "colab": {
          "base_uri": "https://localhost:8080/"
        },
        "id": "JQPWux204jMx",
        "outputId": "fa05b453-fd47-4e4b-9aaa-2a13fdbcfffb"
      },
      "execution_count": 39,
      "outputs": [
        {
          "output_type": "stream",
          "name": "stdout",
          "text": [
            "3.9768611177827506\n"
          ]
        }
      ]
    },
    {
      "cell_type": "code",
      "source": [
        "print(x[2,2])"
      ],
      "metadata": {
        "colab": {
          "base_uri": "https://localhost:8080/"
        },
        "id": "PDLANbIL4lrh",
        "outputId": "91c4b2b6-f44d-4367-f183-514ec6e2a754"
      },
      "execution_count": 40,
      "outputs": [
        {
          "output_type": "stream",
          "name": "stdout",
          "text": [
            "3.390138203808185\n"
          ]
        }
      ]
    },
    {
      "cell_type": "code",
      "source": [
        "x=10*np.random.random((3,3))\n",
        "print(x)"
      ],
      "metadata": {
        "colab": {
          "base_uri": "https://localhost:8080/"
        },
        "id": "W5oWVScG4pX0",
        "outputId": "92112716-5e2f-497b-a097-3023ec64f1bf"
      },
      "execution_count": 41,
      "outputs": [
        {
          "output_type": "stream",
          "name": "stdout",
          "text": [
            "[[7.45820608 7.0590548  4.92599141]\n",
            " [0.25904906 1.1323241  2.5013481 ]\n",
            " [8.36261487 6.89203021 6.22809217]]\n"
          ]
        }
      ]
    },
    {
      "cell_type": "code",
      "source": [
        "mask=x>5\n",
        "print(x[mask])"
      ],
      "metadata": {
        "colab": {
          "base_uri": "https://localhost:8080/"
        },
        "id": "k_FYIjm74rVj",
        "outputId": "0e988e4a-c064-4d6b-855e-ebfa1bf60be1"
      },
      "execution_count": 42,
      "outputs": [
        {
          "output_type": "stream",
          "name": "stdout",
          "text": [
            "[7.45820608 7.0590548  8.36261487 6.89203021 6.22809217]\n"
          ]
        }
      ]
    },
    {
      "cell_type": "code",
      "source": [
        "filter=(x>=2)&(x<=4)\n",
        "print(x[filter])"
      ],
      "metadata": {
        "colab": {
          "base_uri": "https://localhost:8080/"
        },
        "id": "pGgKieO34wl0",
        "outputId": "0b3ffb62-ddc8-4d70-92c5-427d057bc368"
      },
      "execution_count": 43,
      "outputs": [
        {
          "output_type": "stream",
          "name": "stdout",
          "text": [
            "[2.5013481]\n"
          ]
        }
      ]
    },
    {
      "cell_type": "code",
      "source": [
        "filter=(x>=2)&(x<=4)\n",
        "print(x[filter])"
      ],
      "metadata": {
        "colab": {
          "base_uri": "https://localhost:8080/"
        },
        "id": "V_Om9hZ646bL",
        "outputId": "59972e5e-bd93-49c5-b988-d5c2cd010e25"
      },
      "execution_count": 44,
      "outputs": [
        {
          "output_type": "stream",
          "name": "stdout",
          "text": [
            "[2.5013481]\n"
          ]
        }
      ]
    },
    {
      "cell_type": "markdown",
      "source": [
        "NUMPY_CLASE2"
      ],
      "metadata": {
        "id": "WpXwbNCx5Dtb"
      }
    },
    {
      "cell_type": "code",
      "source": [],
      "metadata": {
        "id": "j6EmJ2Nx5J8z"
      },
      "execution_count": 44,
      "outputs": []
    },
    {
      "cell_type": "code",
      "execution_count": 45,
      "metadata": {
        "colab": {
          "base_uri": "https://localhost:8080/"
        },
        "id": "0LlWNw_Z6GIu",
        "outputId": "e0e45b6f-99fa-451d-a91d-0b6fade473f6"
      },
      "outputs": [
        {
          "output_type": "stream",
          "name": "stdout",
          "text": [
            "MATRIZ A\n",
            "[[8 6 3 5]\n",
            " [9 6 6 3]\n",
            " [8 6 7 5]]\n",
            "MATRIZ B\n",
            "[[5 9 1 3]\n",
            " [6 3 2 1]\n",
            " [0 7 3 1]]\n",
            "SUMANDO\n",
            "[[13 15  4  8]\n",
            " [15  9  8  4]\n",
            " [ 8 13 10  6]]\n",
            "RESTANDO\n",
            "[[ 3 -3  2  2]\n",
            " [ 3  3  4  2]\n",
            " [ 8 -1  4  4]]\n",
            "MULTIPLICANDO\n",
            "[[40 54  3 15]\n",
            " [54 18 12  3]\n",
            " [ 0 42 21  5]]\n",
            "[[13 15  4  8]\n",
            " [15  9  8  4]\n",
            " [ 8 13 10  6]]\n",
            "___________\n",
            "[[40 54  3 15]\n",
            " [54 18 12  3]\n",
            " [ 0 42 21  5]]\n",
            "___________\n",
            "[[1.6        0.66666667 3.         1.66666667]\n",
            " [1.5        2.         3.         3.        ]\n",
            " [       inf 0.85714286 2.33333333 5.        ]]\n",
            "___________\n"
          ]
        },
        {
          "output_type": "stream",
          "name": "stderr",
          "text": [
            "<ipython-input-45-dc213cc313db>:22: RuntimeWarning: divide by zero encountered in divide\n",
            "  print(np.divide(a,b))\n"
          ]
        }
      ],
      "source": [
        "\n",
        "a=np.random.randint(0,10,(3,4))\n",
        "\n",
        "b=np.random.randint(0,10,(3,4))\n",
        "print(\"MATRIZ A\")\n",
        "print(a)\n",
        "print(\"MATRIZ B\")\n",
        "print(b)\n",
        "\n",
        "print(\"SUMANDO\")\n",
        "print(a+b)\n",
        "print(\"RESTANDO\")\n",
        "print(a-b)\n",
        "print(\"MULTIPLICANDO\")\n",
        "print(a*b)\n",
        "\n",
        "print(np.add(a,b))\n",
        "print(\"___________\")\n",
        "\n",
        "print(np.multiply(a,b))\n",
        "print(\"___________\")\n",
        "\n",
        "print(np.divide(a,b))\n",
        "print(\"___________\")\n"
      ]
    },
    {
      "cell_type": "code",
      "source": [
        "# random.randint se utiliza para generar un número enteros aleatorio en el rango que es esta caso es de (0,10)\n",
        "a=np.random.randint(0,10,(2,3))\n",
        "\n",
        "b=np.random.randint(0,10,(3,4))\n",
        "print(\"MATRIZ A\")\n",
        "print(a)\n",
        "print(\"MATRIZ B\")\n",
        "print(b)\n",
        "print(\"___________\")\n",
        "\n",
        "# dot son multiplica las matrices\n",
        "print(np.dot(a,b))"
      ],
      "metadata": {
        "colab": {
          "base_uri": "https://localhost:8080/"
        },
        "id": "EPHTuOfjgmud",
        "outputId": "b2721730-7d81-4376-fd94-b9f46433384c"
      },
      "execution_count": 46,
      "outputs": [
        {
          "output_type": "stream",
          "name": "stdout",
          "text": [
            "MATRIZ A\n",
            "[[7 9 5]\n",
            " [7 5 4]]\n",
            "MATRIZ B\n",
            "[[6 1 6 6]\n",
            " [9 2 9 3]\n",
            " [1 6 9 6]]\n",
            "___________\n",
            "[[128  55 168  99]\n",
            " [ 91  41 123  81]]\n"
          ]
        }
      ]
    },
    {
      "cell_type": "code",
      "source": [
        "a=np.random.randint(0,10,(3,3))\n",
        "print(a)\n",
        "print(a.T)"
      ],
      "metadata": {
        "colab": {
          "base_uri": "https://localhost:8080/"
        },
        "id": "6KRF8QWq5ywO",
        "outputId": "8140525a-a1a4-4ee8-8a11-954784cd5075"
      },
      "execution_count": 47,
      "outputs": [
        {
          "output_type": "stream",
          "name": "stdout",
          "text": [
            "[[4 2 1]\n",
            " [8 8 5]\n",
            " [4 1 9]]\n",
            "[[4 8 4]\n",
            " [2 8 1]\n",
            " [1 5 9]]\n"
          ]
        }
      ]
    },
    {
      "cell_type": "code",
      "source": [
        "a=np.random.randint(0,10,(4,3))\n",
        "print(a)\n",
        "\n",
        "\n",
        "b=np.array([1,0,2])\n",
        "print(b)\n",
        "\n",
        "c=np.empty_like(a)\n",
        "print(c)\n",
        "\n",
        "x=a+b\n",
        "\n",
        "print(np.empty_like(x))"
      ],
      "metadata": {
        "colab": {
          "base_uri": "https://localhost:8080/"
        },
        "id": "Yx1vLsxk52wY",
        "outputId": "77fcbfd7-4e20-4604-b523-6b2a4a4821f4"
      },
      "execution_count": 48,
      "outputs": [
        {
          "output_type": "stream",
          "name": "stdout",
          "text": [
            "[[5 9 4]\n",
            " [5 9 4]\n",
            " [6 4 0]\n",
            " [9 3 1]]\n",
            "[1 0 2]\n",
            "[[4609884578576439706 4604180019048437077 4613937818241073152]\n",
            " [4610184818551597739 4609434218613702656 4611686018427387904]\n",
            " [4613937818241073152 4613937818241073152 9218868437227405312]\n",
            " [4605895676049340123 4612436618365282987 4617315517961601024]]\n",
            "[[4601392076421969627 4597174419628082972 4607182418800017408]\n",
            " [4603179219131243634 4608469161550694693 4621256167635550208]\n",
            " [4608469161550694693 4616189618054758400 4594314991293244562]\n",
            " [4604180019048437077 4608683618675807573 4598175219545276416]]\n"
          ]
        }
      ]
    },
    {
      "cell_type": "code",
      "source": [
        "for i in range(4):\n",
        "  c[i,:]=a[i,:]+b\n",
        "\n",
        "print(a)\n",
        "\n",
        "\n",
        "\n",
        "print(b)\n",
        "\n",
        "\n",
        "\n",
        "print(c)\n"
      ],
      "metadata": {
        "colab": {
          "base_uri": "https://localhost:8080/"
        },
        "id": "4nhO3XLU58Ds",
        "outputId": "850e73b3-9ce5-4afe-c2d8-ea21aa62aad2"
      },
      "execution_count": 49,
      "outputs": [
        {
          "output_type": "stream",
          "name": "stdout",
          "text": [
            "[[5 9 4]\n",
            " [5 9 4]\n",
            " [6 4 0]\n",
            " [9 3 1]]\n",
            "[1 0 2]\n",
            "[[ 6  9  6]\n",
            " [ 6  9  6]\n",
            " [ 7  4  2]\n",
            " [10  3  3]]\n"
          ]
        }
      ]
    },
    {
      "cell_type": "code",
      "source": [
        "b=np.array([1,2,3])\n",
        "print(b)\n",
        "x=np.tile(b,(6,1))\n",
        "print(x)"
      ],
      "metadata": {
        "colab": {
          "base_uri": "https://localhost:8080/"
        },
        "id": "2aHcJL8r6AdT",
        "outputId": "49048f29-f443-43d1-f062-08ea522016f6"
      },
      "execution_count": 52,
      "outputs": [
        {
          "output_type": "stream",
          "name": "stdout",
          "text": [
            "[1 2 3]\n",
            "[[1 2 3]\n",
            " [1 2 3]\n",
            " [1 2 3]\n",
            " [1 2 3]\n",
            " [1 2 3]\n",
            " [1 2 3]]\n"
          ]
        }
      ]
    },
    {
      "cell_type": "code",
      "source": [
        "a=np.random.randint(20,31,(6,6))\n",
        "print(a)\n",
        "\n",
        "print(\"PROMEDIOS COMPLETOS\")\n",
        "m1=np.mean(a)\n",
        "print(m1)\n",
        "\n",
        "print(\"PROMEDIOS POR FILAS\")\n",
        "m2=np.mean(a,axis=1)\n",
        "print(m2)"
      ],
      "metadata": {
        "id": "i14BpdKL6FDT",
        "outputId": "31d7c8a2-7817-4d02-8595-030f33ec6b82",
        "colab": {
          "base_uri": "https://localhost:8080/"
        }
      },
      "execution_count": 53,
      "outputs": [
        {
          "output_type": "stream",
          "name": "stdout",
          "text": [
            "[[26 28 21 20 23 23]\n",
            " [26 23 20 25 24 24]\n",
            " [28 22 29 21 28 30]\n",
            " [20 28 21 29 27 26]\n",
            " [30 24 24 21 28 30]\n",
            " [30 30 23 30 30 21]]\n",
            "PROMEDIOS COMPLETOS\n",
            "25.36111111111111\n",
            "PROMEDIOS POR FILAS\n",
            "[23.5        23.66666667 26.33333333 25.16666667 26.16666667 27.33333333]\n"
          ]
        }
      ]
    }
  ]
}