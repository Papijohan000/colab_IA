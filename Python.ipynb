{
  "cells": [
    {
      "cell_type": "markdown",
      "metadata": {
        "id": "view-in-github",
        "colab_type": "text"
      },
      "source": [
        "<a href=\"https://colab.research.google.com/github/Papijohan000/colab_IA/blob/main/Python.ipynb\" target=\"_parent\"><img src=\"https://colab.research.google.com/assets/colab-badge.svg\" alt=\"Open In Colab\"/></a>"
      ]
    },
    {
      "cell_type": "markdown",
      "source": [
        "\n",
        "\n",
        "```\n",
        "# conoser la versión de python\n",
        "```\n",
        "\n"
      ],
      "metadata": {
        "id": "S0uTmtVpBNpK"
      }
    },
    {
      "cell_type": "code",
      "execution_count": null,
      "metadata": {
        "colab": {
          "background_save": true,
          "base_uri": "https://localhost:8080/"
        },
        "id": "gWXdUE8XRhJm",
        "outputId": "309680fc-ba01-44fc-97d2-29faa6e30753"
      },
      "outputs": [
        {
          "name": "stdout",
          "output_type": "stream",
          "text": [
            "Python 3.10.12 (main, Jun 11 2023, 05:26:28) [GCC 11.4.0] on linux\n",
            "Type \"help\", \"copyright\", \"credits\" or \"license\" for more information.\n",
            ">>> \n",
            "KeyboardInterrupt\n",
            ">>> \n",
            "KeyboardInterrupt\n",
            ">>> "
          ]
        }
      ],
      "source": [
        "!python"
      ]
    },
    {
      "cell_type": "markdown",
      "metadata": {
        "id": "zujFJupgTPeM"
      },
      "source": [
        "VARIABLES"
      ]
    },
    {
      "cell_type": "markdown",
      "source": [
        "TIPOS DE DATOS BASICOS"
      ],
      "metadata": {
        "id": "oA5lqs7DBm4v"
      }
    },
    {
      "cell_type": "code",
      "execution_count": null,
      "metadata": {
        "id": "1wAB_cVFR62M",
        "colab": {
          "base_uri": "https://localhost:8080/"
        },
        "outputId": "4eebe477-bd5f-44eb-8bd6-e0f50a3f4728"
      },
      "outputs": [
        {
          "output_type": "stream",
          "name": "stdout",
          "text": [
            "6.2\n",
            "8.8\n",
            "1.7999999999999998\n",
            "1.8181818181818181\n"
          ]
        }
      ],
      "source": [
        "variableX = 4\n",
        "variableY = 2.2\n",
        "\n",
        "print(variableX+variableY)\n",
        "print(variableX*variableY)\n",
        "print(variableX-variableY)\n",
        "print(variableX/variableY)"
      ]
    },
    {
      "cell_type": "markdown",
      "metadata": {
        "id": "ocwP8A0ZTLFD"
      },
      "source": [
        "TIPOS BOOLEANOS"
      ]
    },
    {
      "cell_type": "code",
      "execution_count": null,
      "metadata": {
        "id": "ckr5-maGSwxk",
        "colab": {
          "base_uri": "https://localhost:8080/"
        },
        "outputId": "04bf7be6-c284-46d7-977e-a47834a38bb3"
      },
      "outputs": [
        {
          "output_type": "stream",
          "name": "stdout",
          "text": [
            "False\n",
            "True\n",
            "False\n",
            "True\n"
          ]
        }
      ],
      "source": [
        "variable1= True\n",
        "variable2=False\n",
        "\n",
        "print(variable1 and variable2)\n",
        "print(variable1 or variable2)\n",
        "print( not variable1)\n",
        "print( not variable2)\n",
        "\n"
      ]
    },
    {
      "cell_type": "markdown",
      "source": [
        "CADENA DE CARACTERES"
      ],
      "metadata": {
        "id": "w6G6G2YaEUDU"
      }
    },
    {
      "cell_type": "code",
      "execution_count": 1,
      "metadata": {
        "id": "pQv6Ju-oTajT",
        "colab": {
          "base_uri": "https://localhost:8080/"
        },
        "outputId": "403d3d9f-c3e1-4889-8caa-a018c313a516"
      },
      "outputs": [
        {
          "output_type": "stream",
          "name": "stdout",
          "text": [
            "Johan Zambrano\n",
            "14\n",
            "JOHAN ZAMBRANO\n",
            "johan zambrano\n",
            "Johan zambrano\n"
          ]
        }
      ],
      "source": [
        "name=\"Johan Zambrano\"\n",
        "print(name)\n",
        "print(len(name))\n",
        "print(name.upper())\n",
        "print(name.lower())\n",
        "print(name.capitalize())\n"
      ]
    },
    {
      "cell_type": "markdown",
      "source": [
        "CONTENEDORES"
      ],
      "metadata": {
        "id": "EXe8gikSG49A"
      }
    },
    {
      "cell_type": "code",
      "execution_count": 2,
      "metadata": {
        "id": "CMw4wtTrUp42",
        "colab": {
          "base_uri": "https://localhost:8080/"
        },
        "outputId": "f3b20673-09ae-49a3-ee1b-0257bd267312"
      },
      "outputs": [
        {
          "output_type": "stream",
          "name": "stdout",
          "text": [
            "Javier, Marta, María\n",
            "['Javier, Marta, María']\n"
          ]
        }
      ],
      "source": [
        "names=\"Javier, Marta, María\"\n",
        "print(names)\n",
        "\n",
        "print(names.split(\";\"))"
      ]
    },
    {
      "cell_type": "markdown",
      "metadata": {
        "id": "I7Qbr3J_Vp4M"
      },
      "source": [
        "lista"
      ]
    },
    {
      "cell_type": "code",
      "execution_count": 4,
      "metadata": {
        "id": "gq5_Qwh-VrL0",
        "colab": {
          "base_uri": "https://localhost:8080/"
        },
        "outputId": "9bff4bf6-8e1d-4db1-d279-1550ccb15d76"
      },
      "outputs": [
        {
          "output_type": "stream",
          "name": "stdout",
          "text": [
            "['cuaderno', 'esfero', 'borrador', 'sacaputas']\n",
            "['cuaderno', 'esfero', 'borrador', 'sacaputas', 'regla']\n",
            "sacaputas\n",
            "cuaderno\n",
            "esfero\n",
            "borrador\n",
            "sacaputas\n",
            "regla\n",
            "['cuaderno', 'esfero', 'borrador', 'regla']\n",
            "-----------\n",
            "['esfero', 'borrador', 'regla']\n"
          ]
        }
      ],
      "source": [
        "lista=list()\n",
        "lista=[\"cuaderno\", \"esfero\", \"borrador\", \"sacaputas\"]\n",
        "print(lista)\n",
        "lista.append(\"regla\")\n",
        "print(lista)\n",
        "print(lista[3])\n",
        "\n",
        "for i in lista:\n",
        "  print (i)\n",
        "del lista[3]\n",
        "print(lista)\n",
        "\n",
        "# imprimir un rango del contenedor\n",
        "print('-----------')\n",
        "print(lista[1:4])\n"
      ]
    },
    {
      "cell_type": "code",
      "execution_count": null,
      "metadata": {
        "id": "nSl9uGSnY1L0",
        "colab": {
          "base_uri": "https://localhost:8080/"
        },
        "outputId": "6739a1b2-841f-4197-afeb-415512a27198"
      },
      "outputs": [
        {
          "output_type": "stream",
          "name": "stdout",
          "text": [
            "[0, 1, 2, 3, 4]\n"
          ]
        }
      ],
      "source": [
        "milista=list(range(5))\n",
        "print(milista)"
      ]
    },
    {
      "cell_type": "markdown",
      "source": [
        "DICCIONARIOS"
      ],
      "metadata": {
        "id": "15geP0LiOuR2"
      }
    },
    {
      "cell_type": "code",
      "source": [
        "d={'name:':'juan', 'age:':30, 'city':'EL CARMEN'}\n",
        "print(d['name:'])\n",
        "print(d['city'])\n",
        "\n",
        "d['UNI']='ULEAM'\n",
        "print(d['UNI'])\n",
        "\n",
        "for item in d:\n",
        "  print(item)"
      ],
      "metadata": {
        "colab": {
          "base_uri": "https://localhost:8080/"
        },
        "id": "hw7IQGOPOxed",
        "outputId": "233d609d-4126-48c8-cba0-0179d5150de0"
      },
      "execution_count": 5,
      "outputs": [
        {
          "output_type": "stream",
          "name": "stdout",
          "text": [
            "juan\n",
            "EL CARMEN\n",
            "ULEAM\n",
            "name:\n",
            "age:\n",
            "city\n",
            "UNI\n"
          ]
        }
      ]
    }
  ],
  "metadata": {
    "colab": {
      "provenance": [],
      "include_colab_link": true
    },
    "kernelspec": {
      "display_name": "Python 3",
      "name": "python3"
    },
    "language_info": {
      "name": "python"
    }
  },
  "nbformat": 4,
  "nbformat_minor": 0
}